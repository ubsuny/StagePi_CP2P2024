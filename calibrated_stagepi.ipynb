{
 "cells": [
  {
   "cell_type": "markdown",
   "metadata": {},
   "source": [
    "# Calibration backend"
   ]
  },
  {
   "cell_type": "code",
   "execution_count": 31,
   "metadata": {},
   "outputs": [],
   "source": [
    "import numpy as np\n",
    "import pandas as pd\n",
    "from scipy.optimize import curve_fit\n",
    "\n",
    "def calibrate(axis, voltage):\n",
    "    # Check if axis is a string\n",
    "    if not isinstance(axis, str):\n",
    "        raise ValueError(\"Axis must be a string (x, y, or z)\")\n",
    "    \n",
    "    # Read the data from the CSV file and skip every other row\n",
    "    df = pd.read_csv('stage_data_final.csv')\n",
    "\n",
    "    # Define the function for a linear regression line\n",
    "    def linear_regression(v, a, b):\n",
    "        return a * v + b\n",
    "    \n",
    "    params, covariance = curve_fit(linear_regression, df['volts (V)'], df[f'actual_distance_{axis}(um)'])\n",
    "\n",
    "    # Errors in slope and y-intercept\n",
    "    errors = np.sqrt(np.diag(covariance))\n",
    "    \n",
    "    calibrated_value = params[0]*voltage + params[1]\n",
    "    error_calibrated_value = np.sqrt(errors[0]*voltage + errors[1])\n",
    "    \n",
    "    print(f'At the {voltage} V, the calibrated value with uncertainty for {axis} is {calibrated_value:.4f} ± {error_calibrated_value:.4f} µm.')\n",
    "    return None"
   ]
  },
  {
   "cell_type": "markdown",
   "metadata": {},
   "source": [
    "## Output"
   ]
  },
  {
   "cell_type": "code",
   "execution_count": 32,
   "metadata": {},
   "outputs": [
    {
     "name": "stdout",
     "output_type": "stream",
     "text": [
      "At the 50 V, the calibrated value with uncertainty for x is 56.8627 ± 0.8097 µm.\n"
     ]
    }
   ],
   "source": [
    "calibrate('x', 50)"
   ]
  }
 ],
 "metadata": {
  "kernelspec": {
   "display_name": "Python 3",
   "language": "python",
   "name": "python3"
  },
  "language_info": {
   "codemirror_mode": {
    "name": "ipython",
    "version": 3
   },
   "file_extension": ".py",
   "mimetype": "text/x-python",
   "name": "python",
   "nbconvert_exporter": "python",
   "pygments_lexer": "ipython3",
   "version": "3.12.2"
  }
 },
 "nbformat": 4,
 "nbformat_minor": 2
}
